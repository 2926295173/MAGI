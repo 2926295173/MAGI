{
 "cells": [
  {
   "cell_type": "code",
   "execution_count": 6,
   "metadata": {},
   "outputs": [
    {
     "ename": "JSONDecodeError",
     "evalue": "Invalid \\uXXXX escape: line 1 column 36700157 (char 36700156)",
     "output_type": "error",
     "traceback": [
      "\u001b[0;31m---------------------------------------------------------------------------\u001b[0m",
      "\u001b[0;31mJSONDecodeError\u001b[0m                           Traceback (most recent call last)",
      "Input \u001b[0;32mIn [6]\u001b[0m, in \u001b[0;36m<cell line: 6>\u001b[0;34m()\u001b[0m\n\u001b[1;32m      5\u001b[0m out_dir \u001b[38;5;241m=\u001b[39m \u001b[38;5;124m'\u001b[39m\u001b[38;5;124mghv7_transformed.json\u001b[39m\u001b[38;5;124m'\u001b[39m\n\u001b[1;32m      6\u001b[0m \u001b[38;5;28;01mwith\u001b[39;00m \u001b[38;5;28mopen\u001b[39m(file_dir, \u001b[38;5;124m'\u001b[39m\u001b[38;5;124mr\u001b[39m\u001b[38;5;124m'\u001b[39m) \u001b[38;5;28;01mas\u001b[39;00m f:\n\u001b[0;32m----> 7\u001b[0m     data \u001b[38;5;241m=\u001b[39m \u001b[43mjson\u001b[49m\u001b[38;5;241;43m.\u001b[39;49m\u001b[43mload\u001b[49m\u001b[43m(\u001b[49m\u001b[43mf\u001b[49m\u001b[43m)\u001b[49m\n",
      "File \u001b[0;32m~/miniconda3/lib/python3.8/json/__init__.py:293\u001b[0m, in \u001b[0;36mload\u001b[0;34m(fp, cls, object_hook, parse_float, parse_int, parse_constant, object_pairs_hook, **kw)\u001b[0m\n\u001b[1;32m    274\u001b[0m \u001b[38;5;28;01mdef\u001b[39;00m \u001b[38;5;21mload\u001b[39m(fp, \u001b[38;5;241m*\u001b[39m, \u001b[38;5;28mcls\u001b[39m\u001b[38;5;241m=\u001b[39m\u001b[38;5;28;01mNone\u001b[39;00m, object_hook\u001b[38;5;241m=\u001b[39m\u001b[38;5;28;01mNone\u001b[39;00m, parse_float\u001b[38;5;241m=\u001b[39m\u001b[38;5;28;01mNone\u001b[39;00m,\n\u001b[1;32m    275\u001b[0m         parse_int\u001b[38;5;241m=\u001b[39m\u001b[38;5;28;01mNone\u001b[39;00m, parse_constant\u001b[38;5;241m=\u001b[39m\u001b[38;5;28;01mNone\u001b[39;00m, object_pairs_hook\u001b[38;5;241m=\u001b[39m\u001b[38;5;28;01mNone\u001b[39;00m, \u001b[38;5;241m*\u001b[39m\u001b[38;5;241m*\u001b[39mkw):\n\u001b[1;32m    276\u001b[0m     \u001b[38;5;124;03m\"\"\"Deserialize ``fp`` (a ``.read()``-supporting file-like object containing\u001b[39;00m\n\u001b[1;32m    277\u001b[0m \u001b[38;5;124;03m    a JSON document) to a Python object.\u001b[39;00m\n\u001b[1;32m    278\u001b[0m \n\u001b[0;32m   (...)\u001b[0m\n\u001b[1;32m    291\u001b[0m \u001b[38;5;124;03m    kwarg; otherwise ``JSONDecoder`` is used.\u001b[39;00m\n\u001b[1;32m    292\u001b[0m \u001b[38;5;124;03m    \"\"\"\u001b[39;00m\n\u001b[0;32m--> 293\u001b[0m     \u001b[38;5;28;01mreturn\u001b[39;00m \u001b[43mloads\u001b[49m\u001b[43m(\u001b[49m\u001b[43mfp\u001b[49m\u001b[38;5;241;43m.\u001b[39;49m\u001b[43mread\u001b[49m\u001b[43m(\u001b[49m\u001b[43m)\u001b[49m\u001b[43m,\u001b[49m\n\u001b[1;32m    294\u001b[0m \u001b[43m        \u001b[49m\u001b[38;5;28;43mcls\u001b[39;49m\u001b[38;5;241;43m=\u001b[39;49m\u001b[38;5;28;43mcls\u001b[39;49m\u001b[43m,\u001b[49m\u001b[43m \u001b[49m\u001b[43mobject_hook\u001b[49m\u001b[38;5;241;43m=\u001b[39;49m\u001b[43mobject_hook\u001b[49m\u001b[43m,\u001b[49m\n\u001b[1;32m    295\u001b[0m \u001b[43m        \u001b[49m\u001b[43mparse_float\u001b[49m\u001b[38;5;241;43m=\u001b[39;49m\u001b[43mparse_float\u001b[49m\u001b[43m,\u001b[49m\u001b[43m \u001b[49m\u001b[43mparse_int\u001b[49m\u001b[38;5;241;43m=\u001b[39;49m\u001b[43mparse_int\u001b[49m\u001b[43m,\u001b[49m\n\u001b[1;32m    296\u001b[0m \u001b[43m        \u001b[49m\u001b[43mparse_constant\u001b[49m\u001b[38;5;241;43m=\u001b[39;49m\u001b[43mparse_constant\u001b[49m\u001b[43m,\u001b[49m\u001b[43m \u001b[49m\u001b[43mobject_pairs_hook\u001b[49m\u001b[38;5;241;43m=\u001b[39;49m\u001b[43mobject_pairs_hook\u001b[49m\u001b[43m,\u001b[49m\u001b[43m \u001b[49m\u001b[38;5;241;43m*\u001b[39;49m\u001b[38;5;241;43m*\u001b[39;49m\u001b[43mkw\u001b[49m\u001b[43m)\u001b[49m\n",
      "File \u001b[0;32m~/miniconda3/lib/python3.8/json/__init__.py:357\u001b[0m, in \u001b[0;36mloads\u001b[0;34m(s, cls, object_hook, parse_float, parse_int, parse_constant, object_pairs_hook, **kw)\u001b[0m\n\u001b[1;32m    352\u001b[0m     \u001b[38;5;28;01mdel\u001b[39;00m kw[\u001b[38;5;124m'\u001b[39m\u001b[38;5;124mencoding\u001b[39m\u001b[38;5;124m'\u001b[39m]\n\u001b[1;32m    354\u001b[0m \u001b[38;5;28;01mif\u001b[39;00m (\u001b[38;5;28mcls\u001b[39m \u001b[38;5;129;01mis\u001b[39;00m \u001b[38;5;28;01mNone\u001b[39;00m \u001b[38;5;129;01mand\u001b[39;00m object_hook \u001b[38;5;129;01mis\u001b[39;00m \u001b[38;5;28;01mNone\u001b[39;00m \u001b[38;5;129;01mand\u001b[39;00m\n\u001b[1;32m    355\u001b[0m         parse_int \u001b[38;5;129;01mis\u001b[39;00m \u001b[38;5;28;01mNone\u001b[39;00m \u001b[38;5;129;01mand\u001b[39;00m parse_float \u001b[38;5;129;01mis\u001b[39;00m \u001b[38;5;28;01mNone\u001b[39;00m \u001b[38;5;129;01mand\u001b[39;00m\n\u001b[1;32m    356\u001b[0m         parse_constant \u001b[38;5;129;01mis\u001b[39;00m \u001b[38;5;28;01mNone\u001b[39;00m \u001b[38;5;129;01mand\u001b[39;00m object_pairs_hook \u001b[38;5;129;01mis\u001b[39;00m \u001b[38;5;28;01mNone\u001b[39;00m \u001b[38;5;129;01mand\u001b[39;00m \u001b[38;5;129;01mnot\u001b[39;00m kw):\n\u001b[0;32m--> 357\u001b[0m     \u001b[38;5;28;01mreturn\u001b[39;00m \u001b[43m_default_decoder\u001b[49m\u001b[38;5;241;43m.\u001b[39;49m\u001b[43mdecode\u001b[49m\u001b[43m(\u001b[49m\u001b[43ms\u001b[49m\u001b[43m)\u001b[49m\n\u001b[1;32m    358\u001b[0m \u001b[38;5;28;01mif\u001b[39;00m \u001b[38;5;28mcls\u001b[39m \u001b[38;5;129;01mis\u001b[39;00m \u001b[38;5;28;01mNone\u001b[39;00m:\n\u001b[1;32m    359\u001b[0m     \u001b[38;5;28mcls\u001b[39m \u001b[38;5;241m=\u001b[39m JSONDecoder\n",
      "File \u001b[0;32m~/miniconda3/lib/python3.8/json/decoder.py:337\u001b[0m, in \u001b[0;36mJSONDecoder.decode\u001b[0;34m(self, s, _w)\u001b[0m\n\u001b[1;32m    332\u001b[0m \u001b[38;5;28;01mdef\u001b[39;00m \u001b[38;5;21mdecode\u001b[39m(\u001b[38;5;28mself\u001b[39m, s, _w\u001b[38;5;241m=\u001b[39mWHITESPACE\u001b[38;5;241m.\u001b[39mmatch):\n\u001b[1;32m    333\u001b[0m     \u001b[38;5;124;03m\"\"\"Return the Python representation of ``s`` (a ``str`` instance\u001b[39;00m\n\u001b[1;32m    334\u001b[0m \u001b[38;5;124;03m    containing a JSON document).\u001b[39;00m\n\u001b[1;32m    335\u001b[0m \n\u001b[1;32m    336\u001b[0m \u001b[38;5;124;03m    \"\"\"\u001b[39;00m\n\u001b[0;32m--> 337\u001b[0m     obj, end \u001b[38;5;241m=\u001b[39m \u001b[38;5;28;43mself\u001b[39;49m\u001b[38;5;241;43m.\u001b[39;49m\u001b[43mraw_decode\u001b[49m\u001b[43m(\u001b[49m\u001b[43ms\u001b[49m\u001b[43m,\u001b[49m\u001b[43m \u001b[49m\u001b[43midx\u001b[49m\u001b[38;5;241;43m=\u001b[39;49m\u001b[43m_w\u001b[49m\u001b[43m(\u001b[49m\u001b[43ms\u001b[49m\u001b[43m,\u001b[49m\u001b[43m \u001b[49m\u001b[38;5;241;43m0\u001b[39;49m\u001b[43m)\u001b[49m\u001b[38;5;241;43m.\u001b[39;49m\u001b[43mend\u001b[49m\u001b[43m(\u001b[49m\u001b[43m)\u001b[49m\u001b[43m)\u001b[49m\n\u001b[1;32m    338\u001b[0m     end \u001b[38;5;241m=\u001b[39m _w(s, end)\u001b[38;5;241m.\u001b[39mend()\n\u001b[1;32m    339\u001b[0m     \u001b[38;5;28;01mif\u001b[39;00m end \u001b[38;5;241m!=\u001b[39m \u001b[38;5;28mlen\u001b[39m(s):\n",
      "File \u001b[0;32m~/miniconda3/lib/python3.8/json/decoder.py:353\u001b[0m, in \u001b[0;36mJSONDecoder.raw_decode\u001b[0;34m(self, s, idx)\u001b[0m\n\u001b[1;32m    344\u001b[0m \u001b[38;5;124;03m\"\"\"Decode a JSON document from ``s`` (a ``str`` beginning with\u001b[39;00m\n\u001b[1;32m    345\u001b[0m \u001b[38;5;124;03ma JSON document) and return a 2-tuple of the Python\u001b[39;00m\n\u001b[1;32m    346\u001b[0m \u001b[38;5;124;03mrepresentation and the index in ``s`` where the document ended.\u001b[39;00m\n\u001b[0;32m   (...)\u001b[0m\n\u001b[1;32m    350\u001b[0m \n\u001b[1;32m    351\u001b[0m \u001b[38;5;124;03m\"\"\"\u001b[39;00m\n\u001b[1;32m    352\u001b[0m \u001b[38;5;28;01mtry\u001b[39;00m:\n\u001b[0;32m--> 353\u001b[0m     obj, end \u001b[38;5;241m=\u001b[39m \u001b[38;5;28;43mself\u001b[39;49m\u001b[38;5;241;43m.\u001b[39;49m\u001b[43mscan_once\u001b[49m\u001b[43m(\u001b[49m\u001b[43ms\u001b[49m\u001b[43m,\u001b[49m\u001b[43m \u001b[49m\u001b[43midx\u001b[49m\u001b[43m)\u001b[49m\n\u001b[1;32m    354\u001b[0m \u001b[38;5;28;01mexcept\u001b[39;00m \u001b[38;5;167;01mStopIteration\u001b[39;00m \u001b[38;5;28;01mas\u001b[39;00m err:\n\u001b[1;32m    355\u001b[0m     \u001b[38;5;28;01mraise\u001b[39;00m JSONDecodeError(\u001b[38;5;124m\"\u001b[39m\u001b[38;5;124mExpecting value\u001b[39m\u001b[38;5;124m\"\u001b[39m, s, err\u001b[38;5;241m.\u001b[39mvalue) \u001b[38;5;28;01mfrom\u001b[39;00m \u001b[38;5;28mNone\u001b[39m\n",
      "\u001b[0;31mJSONDecodeError\u001b[0m: Invalid \\uXXXX escape: line 1 column 36700157 (char 36700156)"
     ]
    }
   ],
   "source": [
    "import json\n",
    "import re\n",
    "\n",
    "file_dir = 'ghv7_transformed.json'\n",
    "out_dir = 'ghv7_transformed.json'\n",
    "with open(file_dir, 'r') as f:\n",
    "    data = json.load(f)"
   ]
  },
  {
   "cell_type": "code",
   "execution_count": null,
   "metadata": {},
   "outputs": [],
   "source": [
    "re.findall(r'[\\S]*[Dd]eep[-]*[Ll]earning[\\S]*', 'MingchaoZhu/DeepLearning')"
   ]
  },
  {
   "cell_type": "code",
   "execution_count": 7,
   "metadata": {},
   "outputs": [],
   "source": [
    "filters_text = [\n",
    "    r'[\\S]*[Mm]achine[-_]*[Ll]earning[\\S]*',\n",
    "    r'[\\S]*[Dd]eep[-_]*[Ll]earning[\\S]*',\n",
    "    r'[\\S]*ml-python[\\S]*',\n",
    "    r'[\\S]*[Pp]ython-ml[\\S]*',\n",
    "    r'[\\S]*[Aa]wesom[\\S]*',\n",
    "    r'[\\S]*[Ee]xamples[\\S]*',\n",
    "    r'[\\S]*[Cc]ourse[\\S]*',\n",
    "     r'[\\S]*[Cc]omputer[-_][Ss]cience[\\S]*'\n",
    "    r'[\\S]*paper_study[\\S]*',\n",
    "    r'[\\S]*[Aa]lgorithm[\\S]*',\n",
    "    r'[\\S]*[Ll]eetcode[\\S]*',\n",
    "    r'[\\S]*[Bb]est[-_]*[\\S]*',\n",
    "    r'[\\S]*[-_]+[Ll]earn[\\S]*',\n",
    "    r'[\\S]*[Ll]earn[-_]+[\\S]*',\n",
    "    r'[\\S]*[Cc]pp[-_]*[Pp]rimer[\\S]*',\n",
    "    r'[\\S]*[Ww]tf[-_]*[Pp]ython[\\S]*',\n",
    "    r'Data-Structres',\n",
    "    r'CSPostgraduate-408',\n",
    "    r'public-apis',\n",
    "    r'eeeeeeeeeeeeeeeeee'\n",
    "]\n",
    "\n",
    "filters_compiled = [re.compile(x) for x in filters_text]"
   ]
  },
  {
   "cell_type": "code",
   "execution_count": 8,
   "metadata": {},
   "outputs": [
    {
     "name": "stdout",
     "output_type": "stream",
     "text": [
      "public-apis/public-apis\n",
      "vinta/awesome-python\n",
      "josephmisiti/awesome-machine-learning\n",
      "scikit-learn/scikit-learn\n",
      "floodsung/Deep-Learning-Papers-Reading-Roadmap\n",
      "satwikkansal/wtfpython\n",
      "keon/algorithms\n",
      "pytorch/examples\n",
      "luong-komorebi/Awesome-Linux-Software\n",
      "Kr1s77/awesome-python-login-model\n",
      "mnielsen/neural-networks-and-deep-learning\n",
      "trekhleb/learn-python\n",
      "leisurelicht/wtfpython-cn\n",
      "ShangtongZhang/reinforcement-learning-an-introduction\n",
      "shengqiangzhang/examples-of-web-crawlers\n",
      "RunaCapital/awesome-oss-alternatives\n",
      "hoya012/deep_learning_object_detection\n",
      "donnemartin/awesome-aws\n",
      "ml-tooling/best-of-ml-python\n",
      "wistbean/learn_python3_spider\n",
      "wilsonfreitas/awesome-quant\n",
      "WZMIAOMIAO/deep-learning-for-image-processing\n",
      "eeeeeeeeeeeeeeeeeeeeeeeeeeeeeeee/eeeeeeeeeeeeeeeeeeeeeeeeeeeeeeeeeeeeeeeeeeeeeeeeeeeeeeeeeeeeeeeeeeeeeeeeeeeeeeeeeeeeeeeeeeeeeeeeeeee\n",
      "Dod-o/Statistical-Learning-Method_Code\n",
      "rushter/MLAlgorithms\n",
      "coursera-dl/coursera-dl\n",
      "NVIDIA/DeepLearningExamples\n",
      "lauris/awesome-scala\n",
      "lk-geimfari/awesomo\n",
      "Yorko/mlcourse.ai\n",
      "MorvanZhou/Reinforcement-learning-with-tensorflow\n",
      "fchollet/deep-learning-models\n",
      "jackzhenguo/python-small-examples\n",
      "instillai/machine-learning-course\n",
      "lazyprogrammer/machine_learning_examples\n",
      "yenchenlin/DeepLearningFlappyBird\n",
      "Jack-Cherish/Machine-Learning\n",
      "detailyang/awesome-cheatsheet\n",
      "paralax/awesome-honeypots\n",
      "rossant/awesome-math\n",
      "scikit-learn-contrib/imbalanced-learn\n",
      "aymericdamien/TopDeepLearning\n",
      "lcdevelop/ChatBotCourse\n",
      "likedan/Awesome-CoreML-Models\n",
      "WenDesi/lihang_book_algorithm\n",
      "jerry-git/learn-python3\n",
      "humphd/have-fun-with-machine-learning\n",
      "KevinMusgrave/pytorch-metric-learning\n",
      "benedekrozemberczki/awesome-graph-classification\n",
      "wepe/MachineLearning\n",
      "0xInfection/Awesome-WAF\n",
      "instillai/deep-learning-roadmap\n",
      "MingchaoZhu/DeepLearning\n",
      "hzy46/Deep-Learning-21-Examples\n",
      "jcjohnson/pytorch-examples\n",
      "qiyuangong/leetcode\n",
      "deepmind/learning-to-learn\n",
      "lisa-lab/DeepLearningTutorials\n",
      "haoel/leetcode\n",
      "USTC-Resource/USTC-Course\n",
      "Mooophy/Cpp-Primer\n",
      "mandliya/algorithms_and_data_structures\n",
      "xtaci/algorithms\n",
      "0xZ0F/Z0FCourse_ReverseEngineering\n",
      "applenob/Cpp_Primer_Practice\n",
      "pezy/CppPrimer\n",
      "huaxz1986/cplusplus-_Implementation_Of_Introduction_to_Algorithms\n",
      "CodePanda66/CSPostgraduate-408\n",
      "rachitiitr/DataStructures-Algorithms\n",
      "huangmingchuan/Cpp_Primer_Answers\n",
      "nodejs/node-addon-examples\n",
      "oreillymedia/Learning-OpenCV-3_examples\n",
      "tongtzeho/PKUCourse\n",
      "callmePicacho/Data-Structres\n",
      "mgbellemare/Arcade-Learning-Environment\n",
      "trekhleb/javascript-algorithms\n",
      "awesome-selfhosted/awesome-selfhosted\n",
      "goldbergyoni/nodebestpractices\n",
      "FortAwesome/Font-Awesome\n",
      "jaywcjlove/awesome-mac\n",
      "azl397985856/leetcode\n",
      "scutan90/DeepLearning-500-questions\n",
      "algorithm-visualizer/algorithm-visualizer\n",
      "jondot/awesome-react-native\n",
      "LeCoupa/awesome-cheatsheets\n",
      "goabstract/Awesome-Design-Tools\n",
      "viatsko/awesome-vscode\n",
      "chaozh/awesome-blockchain-cn\n",
      "surmon-china/vue-awesome-swiper\n",
      "kesenhoo/android-training-course-in-chinese\n",
      "serverless/examples\n",
      "jonasschmedtmann/complete-javascript-course\n",
      "kautukkundan/Awesome-Profile-README-templates\n",
      "1c7/Crash-Course-Computer-Science-Chinese\n",
      "jhu-ep-coursera/fullstack-course4\n",
      "davidsonfellipe/awesome-wpo\n",
      "egonSchiele/grokking_algorithms\n",
      "apsdehal/awesome-ctf\n",
      "LeaVerou/awesomplete\n",
      "Kristories/awesome-guidelines\n",
      "amejiarosario/dsa.js-data-structures-algorithms-javascript\n",
      "seanprashad/leetcode-patterns\n"
     ]
    }
   ],
   "source": [
    "new_data = []\n",
    "filtered_count = 0\n",
    "for repo in data:\n",
    "    filtered = False\n",
    "    for filter in filters_compiled:\n",
    "        if len(filter.findall(repo['name'].split('/')[-1])) != 0:\n",
    "            filtered = True\n",
    "            print(f'{repo[\"name\"]}')\n",
    "            break\n",
    "    filtered_count += filtered\n",
    "    if not filtered:\n",
    "        new_data.append(repo)"
   ]
  },
  {
   "cell_type": "code",
   "execution_count": 9,
   "metadata": {},
   "outputs": [
    {
     "data": {
      "text/plain": [
       "102"
      ]
     },
     "execution_count": 9,
     "metadata": {},
     "output_type": "execute_result"
    }
   ],
   "source": [
    "filtered_count"
   ]
  },
  {
   "cell_type": "code",
   "execution_count": 10,
   "metadata": {},
   "outputs": [
    {
     "data": {
      "text/plain": [
       "2785"
      ]
     },
     "execution_count": 10,
     "metadata": {},
     "output_type": "execute_result"
    }
   ],
   "source": [
    "len(new_data)"
   ]
  },
  {
   "cell_type": "code",
   "execution_count": 11,
   "metadata": {},
   "outputs": [],
   "source": [
    "with open(out_dir, 'w') as f:\n",
    "    json.dump(new_data, f, indent=2)"
   ]
  },
  {
   "cell_type": "code",
   "execution_count": null,
   "metadata": {},
   "outputs": [],
   "source": []
  }
 ],
 "metadata": {
  "interpreter": {
   "hash": "3c5c45524385f7d219b026ea8c80bb63a2b7cc2d4f8c22bbd538379a9b73d042"
  },
  "kernelspec": {
   "display_name": "Python 3 (ipykernel)",
   "language": "python",
   "name": "python3"
  },
  "language_info": {
   "codemirror_mode": {
    "name": "ipython",
    "version": 3
   },
   "file_extension": ".py",
   "mimetype": "text/x-python",
   "name": "python",
   "nbconvert_exporter": "python",
   "pygments_lexer": "ipython3",
   "version": "3.8.10"
  },
  "vscode": {
   "interpreter": {
    "hash": "69ebb68546383bf02d706952417dc7254f0671422501931c86efacdfc1edf3d5"
   }
  }
 },
 "nbformat": 4,
 "nbformat_minor": 4
}
