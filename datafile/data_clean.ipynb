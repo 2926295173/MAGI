{
 "cells": [
  {
   "cell_type": "code",
   "execution_count": 1,
   "metadata": {},
   "outputs": [],
   "source": [
    "import json\n",
    "import re\n",
    "\n",
    "file_dir = 'ghv7_transformed.json'\n",
    "out_dir = 'ghv7_transformed.json'\n",
    "with open(file_dir, 'r') as f:\n",
    "    data = json.load(f)"
   ]
  },
  {
   "cell_type": "code",
   "execution_count": 2,
   "metadata": {},
   "outputs": [
    {
     "data": {
      "text/plain": [
       "['MingchaoZhu/DeepLearning']"
      ]
     },
     "execution_count": 2,
     "metadata": {},
     "output_type": "execute_result"
    }
   ],
   "source": [
    "re.findall(r'[\\S]*[Dd]eep[-]*[Ll]earning[\\S]*', 'MingchaoZhu/DeepLearning')"
   ]
  },
  {
   "cell_type": "code",
   "execution_count": 10,
   "metadata": {},
   "outputs": [],
   "source": [
    "filters_text = [\n",
    "    r'^[\\S]*[Mm]achine[-_]*[Ll]earning[\\S]*$',\n",
    "    r'^[\\S]*[Dd]eep[-_]*[Ll]earning[\\S]*$',\n",
    "    r'^[\\S]*ml-python[\\S]*$',\n",
    "    r'^[\\S]*[Pp]ython-ml[\\S]*$',\n",
    "    r'^[\\S]*[Aa]wesom[\\S]*$',\n",
    "    r'^[\\S]*[Ee]xamples[\\S]*$',\n",
    "    r'^[\\S]*[Cc]ourse[\\S]*$',\n",
    "    r'^[\\S]*[Cc]omputer[-_][Ss]cience[\\S]$*'\n",
    "    r'^[\\S]*paper_study[\\S]$*',\n",
    "    r'^[\\S]*[Aa]lgorithm[\\S]*$',\n",
    "    r'^[\\S]*[Ll]eetcode[\\S]*$',\n",
    "    r'^[\\S]*[Bb]est[-_]*[\\S]*$',\n",
    "    r'^[\\S]*[-_]+[Ll]earn[\\S]*$',\n",
    "    r'^[\\S]*[Ll]earn[-_]+[\\S]*$',\n",
    "    r'^[\\S]*[Cc]heat[-_]*sheet[\\S]*$',\n",
    "    r'^[\\S]*[Cc]pp[-_]*[Pp]rimer[\\S]*$',\n",
    "    r'^[\\S]*[Ww]tf[-_]*[Pp]ython[\\S]*$',\n",
    "    r'^lihang_book_algorithm$',\n",
    "    r'^learn-python$',\n",
    "    r'^Python$',\n",
    "    r'^CppCoreGuidelines$'\n",
    "    r'^Data-Structres$',\n",
    "    r'^CSPostgraduate-408$',\n",
    "    r'^public-apis$',\n",
    "    r'^nlp_paper_study$',\n",
    "    r'^Data-Structres$',\n",
    "    r'interview',\n",
    "    r'^computer-science-in-javascript$',\n",
    "    r'eeeeeeeeeeeeeeeeeeeeeeeee$', # only one repo has that absurdly much e's\n",
    "]\n",
    "\n",
    "filters_compiled = [re.compile(x) for x in filters_text]"
   ]
  },
  {
   "cell_type": "code",
   "execution_count": 11,
   "metadata": {},
   "outputs": [
    {
     "name": "stdout",
     "output_type": "stream",
     "text": [
      "TheAlgorithms/Python\n",
      "jackfrued/Python-100-Days\n",
      "0voice/interview_internal_reference\n",
      "geekcomputers/Python\n",
      "AtsushiSakai/PythonRobotics\n",
      "injetlee/Python\n",
      "Jack-Cherish/PythonPark\n",
      "ujjwalkarn/DataSciencePython\n",
      "careercup/CtCI-6th-Edition-Python\n",
      "Kr1s77/Python-crawler-tutorial-starts-from-zero\n",
      "huihut/interview\n",
      "20tab/UnrealEnginePython\n",
      "callmePicacho/Data-Structres\n",
      "yangshun/tech-interview-handbook\n",
      "yangshun/front-end-interview-handbook\n",
      "haizlin/fe-interview\n",
      "sudheerj/reactjs-interview-questions\n",
      "sudheerj/javascript-interview-questions\n",
      "30-seconds/30-seconds-of-interviews\n",
      "humanwhocodes/computer-science-in-javascript\n"
     ]
    }
   ],
   "source": [
    "new_data = []\n",
    "filtered_count = 0\n",
    "for repo in data:\n",
    "    filtered = False\n",
    "    for filter in filters_compiled:\n",
    "        if len(filter.findall(repo['name'].split('/')[-1])) != 0:\n",
    "            filtered = True\n",
    "            print(f'{repo[\"name\"]}')\n",
    "            break\n",
    "    filtered_count += filtered\n",
    "    if not filtered:\n",
    "        new_data.append(repo)"
   ]
  },
  {
   "cell_type": "code",
   "execution_count": 7,
   "metadata": {},
   "outputs": [
    {
     "data": {
      "text/plain": [
       "0"
      ]
     },
     "execution_count": 7,
     "metadata": {},
     "output_type": "execute_result"
    }
   ],
   "source": [
    "filtered_count"
   ]
  },
  {
   "cell_type": "code",
   "execution_count": 8,
   "metadata": {},
   "outputs": [
    {
     "data": {
      "text/plain": [
       "2779"
      ]
     },
     "execution_count": 8,
     "metadata": {},
     "output_type": "execute_result"
    }
   ],
   "source": [
    "len(new_data)"
   ]
  },
  {
   "cell_type": "code",
   "execution_count": 24,
   "metadata": {},
   "outputs": [],
   "source": [
    "with open(out_dir, 'w') as f:\n",
    "    json.dump(new_data, f, indent=2)"
   ]
  },
  {
   "cell_type": "code",
   "execution_count": null,
   "metadata": {},
   "outputs": [],
   "source": []
  }
 ],
 "metadata": {
  "interpreter": {
   "hash": "3c5c45524385f7d219b026ea8c80bb63a2b7cc2d4f8c22bbd538379a9b73d042"
  },
  "kernelspec": {
   "display_name": "Python 3 (ipykernel)",
   "language": "python",
   "name": "python3"
  },
  "language_info": {
   "codemirror_mode": {
    "name": "ipython",
    "version": 3
   },
   "file_extension": ".py",
   "mimetype": "text/x-python",
   "name": "python",
   "nbconvert_exporter": "python",
   "pygments_lexer": "ipython3",
   "version": "3.8.10"
  },
  "vscode": {
   "interpreter": {
    "hash": "69ebb68546383bf02d706952417dc7254f0671422501931c86efacdfc1edf3d5"
   }
  }
 },
 "nbformat": 4,
 "nbformat_minor": 4
}
