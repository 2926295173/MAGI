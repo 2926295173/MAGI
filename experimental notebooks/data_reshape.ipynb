{
 "cells": [
  {
   "cell_type": "code",
   "execution_count": 1,
   "id": "3605bf7b-2869-4de4-b6ae-223345adfde8",
   "metadata": {},
   "outputs": [],
   "source": [
    "import json\n",
    "import pandas as pd\n",
    "import re\n",
    "\n",
    "from tqdm.notebook import tqdm"
   ]
  },
  {
   "cell_type": "code",
   "execution_count": 2,
   "id": "739f24a6-0fe6-4efa-8715-4c74885ce1eb",
   "metadata": {},
   "outputs": [
    {
     "data": {
      "text/plain": [
       "980"
      ]
     },
     "execution_count": 2,
     "metadata": {},
     "output_type": "execute_result"
    }
   ],
   "source": [
    "with open('ghv3.json', 'r') as f:\n",
    "    all_data = json.load(f)\n",
    "len(all_data)"
   ]
  },
  {
   "cell_type": "code",
   "execution_count": 3,
   "id": "d0acebd2-850b-43d6-be0c-eee8fd181579",
   "metadata": {},
   "outputs": [
    {
     "data": {
      "application/vnd.jupyter.widget-view+json": {
       "model_id": "2223c87ee1f94fe1aab386bf3a282915",
       "version_major": 2,
       "version_minor": 0
      },
      "text/plain": [
       "  0%|          | 0/980 [00:00<?, ?it/s]"
      ]
     },
     "metadata": {},
     "output_type": "display_data"
    },
    {
     "name": "stdout",
     "output_type": "stream",
     "text": [
      "skip public-apis/public-apis\n",
      "skip TheAlgorithms/Python\n",
      "skip vinta/awesome-python\n",
      "skip jackfrued/Python-100-Days\n",
      "skip josephmisiti/awesome-machine-learning\n",
      "skip satwikkansal/wtfpython\n",
      "skip geekcomputers/Python\n",
      "skip donnemartin/data-science-ipython-notebooks\n",
      "skip sebastianruder/NLP-progress\n",
      "skip pytorch/examples\n",
      "skip luong-komorebi/Awesome-Linux-Software\n",
      "skip ipython/ipython\n",
      "skip AtsushiSakai/PythonRobotics\n",
      "skip Kr1s77/awesome-python-login-model\n",
      "skip mnielsen/neural-networks-and-deep-learning\n",
      "skip leisurelicht/wtfpython-cn\n",
      "skip shengqiangzhang/examples-of-web-crawlers\n",
      "skip donnemartin/awesome-aws\n",
      "skip Python-World/python-mini-projects\n",
      "skip RunaCapital/awesome-oss-alternatives\n",
      "skip lyhue1991/eat_tensorflow2_in_30_days\n",
      "skip wilsonfreitas/awesome-quant\n",
      "skip x-hw/amazing-qr\n",
      "skip eeeeeeeeeeeeeeeeeeeeeeeeeeeeeeee/eeeeeeeeeeeeeeeeeeeeeeeeeeeeeeeeeeeeeeeeeeeeeeeeeeeeeeeeeeeeeeeeeeeeeeeeeeeeeeeeeeeeeeeeeeeeeeeeeeee\n",
      "skip lauris/awesome-scala\n",
      "skip NVIDIA/DeepLearningExamples\n",
      "skip WZMIAOMIAO/deep-learning-for-image-processing\n",
      "skip dabeaz-course/practical-python\n",
      "skip injetlee/Python\n",
      "skip fchollet/deep-learning-models\n",
      "skip jackzhenguo/python-small-examples\n",
      "skip instillai/machine-learning-course\n",
      "skip joelgrus/data-science-from-scratch\n",
      "skip lazyprogrammer/machine_learning_examples\n",
      "skip detailyang/awesome-cheatsheet\n",
      "skip paralax/awesome-honeypots\n",
      "skip rushter/data-science-blogs\n",
      "skip rossant/awesome-math\n",
      "skip aymericdamien/TopDeepLearning\n",
      "skip Jack-Cherish/PythonPark\n",
      "skip likedan/Awesome-CoreML-Models\n",
      "skip jerry-git/learn-python3\n",
      "skip ujjwalkarn/DataSciencePython\n",
      "skip benedekrozemberczki/awesome-graph-classification\n",
      "skip 0xInfection/Awesome-WAF\n",
      "skip instillai/deep-learning-roadmap\n",
      "skip MingchaoZhu/DeepLearning\n",
      "skip jcjohnson/pytorch-examples\n",
      "skip qiyuangong/leetcode\n",
      "skip lisa-lab/DeepLearningTutorials\n",
      "skip hhatto/autopep8\n",
      "skip careercup/CtCI-6th-Edition-Python\n",
      "skip Kr1s77/Python-crawler-tutorial-starts-from-zero\n"
     ]
    }
   ],
   "source": [
    "new_data = []\n",
    "black_list = [re.compile(x) for x in [\n",
    "        r'HelloGithub',\n",
    "        r'Python-100-Days',\n",
    "        r'Python',\n",
    "        r'awesome\\s*',\n",
    "        r'Awesome\\s*',\n",
    "        r'roadmap'\n",
    "        r'Roadmap',\n",
    "        r'amazing',\n",
    "        r'Amazing',\n",
    "        r'deep-learning-',\n",
    "        r'public-apis',\n",
    "        r'DeepLearning',\n",
    "        r'deeplearning',\n",
    "        r'deep-learning',\n",
    "        r'eeeeeeeeeeeeeeeee',\n",
    "        r'data-science-',\n",
    "        r'examples',\n",
    "        r'days',\n",
    "        r'learn-python3',\n",
    "        r'wtfpython',\n",
    "        r'practical-python',\n",
    "        r'ipython',\n",
    "        r'leetcode',\n",
    "        r'NLP-progress',\n",
    "        r'machine-learning-',\n",
    "        r'autopep8'\n",
    "    ]\n",
    "]\n",
    "\n",
    "intro_paragraph = [re.compile(x) for x in [r'^[\\s\\S]*# ([\\s\\S]*)##', r'^[\\s\\S]*# \\s*##([\\s\\S]*)', r'^([\\s\\S]*)# \\s*']]\n",
    "\n",
    "cleanse_patterns = [re.compile(x) for x in [\n",
    "        r'!*[\\s*]\\(\\s*\\)', # Markdown links\n",
    "        r'http[s]?://(?:[a-zA-Z]|[0-9]|[$-_@.&+]|[!*\\(\\),]|(?:%[0-9a-fA-F][0-9a-fA-F]))+', # URLs\n",
    "        r'```[\\s\\S]*```' # Markdown code blocks\n",
    "    ]\n",
    "]\n",
    "\n",
    "for data in tqdm(all_data):\n",
    "    if any([re.search(b, data['name']) for b in black_list]):\n",
    "        print(f\"skip {data['name']}\")\n",
    "        continue\n",
    "    cleansed_text = data['readme']\n",
    "    for pattern in cleanse_patterns:\n",
    "        cleansed_text = pattern.sub('', cleansed_text)\n",
    "#     intro_pars = []\n",
    "#     for pattern in intro_paragraph:\n",
    "#         match = pattern.search(cleansed_text)\n",
    "#         if match is not None:\n",
    "#             intro_pars.append(match.group(0))\n",
    "#     if len(intro_pars) != 0:\n",
    "#         cleansed_text = '\\n'.join(intro_pars)\n",
    "#         print(data['name'], [type(x) for x in intro_pars], [len(x) for x in intro_pars], len(cleansed_text))\n",
    "    data['readme'] = cleansed_text\n",
    "    \n",
    "    new_data.append(data)"
   ]
  },
  {
   "cell_type": "code",
   "execution_count": null,
   "id": "42dd0169-2c1f-46cb-8b3d-9239bd52791f",
   "metadata": {},
   "outputs": [],
   "source": [
    "new_data[3]"
   ]
  },
  {
   "cell_type": "code",
   "execution_count": 4,
   "id": "3214bcce-78e3-4d4b-a5e4-b3f3135b8d0e",
   "metadata": {},
   "outputs": [],
   "source": [
    "with open('ghv5.json', 'w') as f:\n",
    "    json.dump(new_data, f, indent=2)"
   ]
  },
  {
   "cell_type": "code",
   "execution_count": null,
   "id": "30c05ee4-6afe-43ef-aa63-6921768aa30b",
   "metadata": {},
   "outputs": [],
   "source": []
  }
 ],
 "metadata": {
  "kernelspec": {
   "display_name": "Python 3 (ipykernel)",
   "language": "python",
   "name": "python3"
  },
  "language_info": {
   "codemirror_mode": {
    "name": "ipython",
    "version": 3
   },
   "file_extension": ".py",
   "mimetype": "text/x-python",
   "name": "python",
   "nbconvert_exporter": "python",
   "pygments_lexer": "ipython3",
   "version": "3.8.10"
  }
 },
 "nbformat": 4,
 "nbformat_minor": 5
}
